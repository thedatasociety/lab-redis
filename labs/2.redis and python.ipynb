{
 "cells": [
  {
   "cell_type": "code",
   "execution_count": null,
   "id": "9e720053-a319-4daf-9fd7-f706661eff3e",
   "metadata": {},
   "outputs": [],
   "source": [
    "import redis\n",
    "redis = redis.Redis(host = 'localhost', port=6379)\n",
    "redis.ping()"
   ]
  },
  {
   "cell_type": "code",
   "execution_count": null,
   "id": "660296ab-47ea-43af-80bc-d93fe002cd48",
   "metadata": {},
   "outputs": [],
   "source": [
    "redis.set('foo', 'bar')\n",
    "redis.get('foo')"
   ]
  },
  {
   "cell_type": "code",
   "execution_count": null,
   "id": "14b5f198-2d8f-412d-bbdc-a98e69178629",
   "metadata": {},
   "outputs": [],
   "source": [
    "redis.keys(\"f*\")"
   ]
  },
  {
   "cell_type": "code",
   "execution_count": null,
   "id": "f4b2e2ee-b89a-45a3-8f9c-a7d2c661fb1e",
   "metadata": {},
   "outputs": [],
   "source": [
    "redis.expire('foo', 20)"
   ]
  },
  {
   "cell_type": "code",
   "execution_count": null,
   "id": "87862c7f-b6dd-4f4e-828d-53a4c2aa3525",
   "metadata": {},
   "outputs": [],
   "source": [
    "redis.ttl('foo')"
   ]
  },
  {
   "cell_type": "code",
   "execution_count": null,
   "id": "fefe520f-41c3-4881-b69d-b2151a517b61",
   "metadata": {},
   "outputs": [],
   "source": [
    "redis.get('foo')"
   ]
  },
  {
   "cell_type": "code",
   "execution_count": null,
   "id": "cfa26568-0fef-4bd5-bec9-cb4e119b0e2c",
   "metadata": {},
   "outputs": [],
   "source": [
    "help(redis.sadd)"
   ]
  },
  {
   "cell_type": "code",
   "execution_count": null,
   "id": "5306edca-2b24-4be1-843e-5180894a5818",
   "metadata": {},
   "outputs": [],
   "source": [
    "redis.sadd('meuconjunto', 'valor1',  'valor2')"
   ]
  },
  {
   "cell_type": "code",
   "execution_count": null,
   "id": "63aec7a2-8aff-454f-aa4d-29a994e93797",
   "metadata": {},
   "outputs": [],
   "source": [
    "redis.smembers('meuconjunto')"
   ]
  },
  {
   "cell_type": "code",
   "execution_count": null,
   "id": "28257363-145b-48c5-bc6d-2a02f736843c",
   "metadata": {},
   "outputs": [],
   "source": [
    "redis.ttl('meuconjunto')"
   ]
  },
  {
   "cell_type": "code",
   "execution_count": null,
   "id": "45d58b58-ee1f-4c29-bb76-7be60e24fc54",
   "metadata": {},
   "outputs": [],
   "source": [
    "redis.expire('meuconjunto', 20)"
   ]
  }
 ],
 "metadata": {
  "kernelspec": {
   "display_name": "Python 3 (ipykernel)",
   "language": "python",
   "name": "python3"
  },
  "language_info": {
   "codemirror_mode": {
    "name": "ipython",
    "version": 3
   },
   "file_extension": ".py",
   "mimetype": "text/x-python",
   "name": "python",
   "nbconvert_exporter": "python",
   "pygments_lexer": "ipython3",
   "version": "3.10.14"
  }
 },
 "nbformat": 4,
 "nbformat_minor": 5
}
