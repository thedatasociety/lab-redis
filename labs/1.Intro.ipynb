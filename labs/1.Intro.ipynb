{
 "cells": [
  {
   "cell_type": "markdown",
   "metadata": {},
   "source": [
    "# Listar chaves no servidor Redis"
   ]
  },
  {
   "cell_type": "code",
   "execution_count": 1,
   "metadata": {},
   "outputs": [],
   "source": [
    "%reload_ext redis_command\n"
   ]
  },
  {
   "cell_type": "code",
   "execution_count": 2,
   "metadata": {},
   "outputs": [
    {
     "name": "stdout",
     "output_type": "stream",
     "text": [
      "KEYS *\n",
      "[]\n",
      "\n"
     ]
    }
   ],
   "source": [
    "%%redis\n",
    "KEYS *"
   ]
  },
  {
   "cell_type": "markdown",
   "metadata": {},
   "source": [
    "# Criação de chaves\n",
    "Não existe um comando específico para criar uma chave. As chaves são criadas quando pares chave-valor são definidos usando o comando SET."
   ]
  },
  {
   "cell_type": "code",
   "execution_count": 3,
   "metadata": {},
   "outputs": [
    {
     "name": "stdout",
     "output_type": "stream",
     "text": [
      "b'OK'\n"
     ]
    }
   ],
   "source": [
    "%%redis\n",
    "SET chave valor"
   ]
  },
  {
   "cell_type": "markdown",
   "metadata": {},
   "source": [
    "# Armazenamento em cache de valores\n",
    "Os valores podem ser armazenados no Redis usando chaves específicas. Por exemplo, você pode armazenar nomes de usuários e sessões."
   ]
  },
  {
   "cell_type": "code",
   "execution_count": 3,
   "metadata": {},
   "outputs": [
    {
     "name": "stdout",
     "output_type": "stream",
     "text": [
      "SET user.5.username matheusmota\n",
      "b'OK'\n",
      "\n",
      "SET user.5.session iojiu2543tin2oi35tnIALWEMD23242\n",
      "b'OK'\n",
      "\n",
      "SET user.6.username fulanosilva\n",
      "b'OK'\n",
      "\n",
      "SET user.6.session iojhasjOIJASmnnOAIJSD\n",
      "b'OK'\n",
      "\n",
      "SET user.9.username jotap\n",
      "b'OK'\n",
      "\n",
      "SET user.9.session KJASKJDH8as7KASDLKnakjsndAKD\n",
      "b'OK'\n",
      "\n"
     ]
    }
   ],
   "source": [
    "%%redis\n",
    "SET user.5.username matheusmota\n",
    "SET user.5.session iojiu2543tin2oi35tnIALWEMD23242\n",
    "\n",
    "SET user.6.username fulanosilva\n",
    "SET user.6.session iojhasjOIJASmnnOAIJSD\n",
    "\n",
    "SET user.9.username jotap\n",
    "SET user.9.session KJASKJDH8as7KASDLKnakjsndAKD"
   ]
  },
  {
   "cell_type": "markdown",
   "metadata": {},
   "source": [
    "# Confirmar a existência de uma chave\n",
    "Você pode verificar se uma chave existe no Redis usando o comando EXISTS."
   ]
  },
  {
   "cell_type": "code",
   "execution_count": null,
   "metadata": {},
   "outputs": [],
   "source": [
    "%redis\n",
    "EXISTS user.5\n",
    "EXISTS user.5.*\n",
    "EXISTS user.5.username"
   ]
  },
  {
   "cell_type": "markdown",
   "metadata": {},
   "source": [
    "# Recuperar valores\n",
    "O comando GET permite que você recupere o valor associado a uma chave específica."
   ]
  },
  {
   "cell_type": "code",
   "execution_count": null,
   "metadata": {},
   "outputs": [],
   "source": [
    "%redis\n",
    "GET chave\n",
    "KEYS user.*\n",
    "KEYS user.5.*\n",
    "GET user.9.session"
   ]
  },
  {
   "cell_type": "markdown",
   "metadata": {},
   "source": [
    "# Verificar o tempo de vida (TTL) de uma chave\n",
    "O TTL (Time To Live) de uma chave pode ser verificado em segundos com o comando TTL ou em milissegundos com o comando PTTL."
   ]
  },
  {
   "cell_type": "code",
   "execution_count": null,
   "metadata": {},
   "outputs": [],
   "source": [
    "%redis\n",
    "# check the TTL of a key\n",
    "# in seconds\n",
    "TTL user.9.session\n",
    "# in milliseconds\n",
    "PTTL user.9.session"
   ]
  },
  {
   "cell_type": "markdown",
   "metadata": {},
   "source": [
    "# Configurar o TTL de uma chave\n",
    "Você pode definir o TTL de uma chave para expirar após um determinado período de tempo, usando EXPIRE (em segundos) ou PEXPIRE (em milissegundos)."
   ]
  },
  {
   "cell_type": "code",
   "execution_count": null,
   "metadata": {},
   "outputs": [],
   "source": [
    "%redis\n",
    "# set the TTL of a key\n",
    "# in seconds:\n",
    "EXPIRE user.9.session 20\n",
    "# in milliseconds:\n",
    "PEXPIRE user.9.session 3600000"
   ]
  },
  {
   "cell_type": "markdown",
   "metadata": {},
   "source": [
    "# Deletar uma chave\n",
    "Para remover uma chave e seu valor associado do Redis, use o comando DEL."
   ]
  },
  {
   "cell_type": "code",
   "execution_count": null,
   "metadata": {},
   "outputs": [],
   "source": [
    "%redis\n",
    "# delete a key\n",
    "DEL user.5.session\n",
    "DEL user.5.username\n",
    "\n",
    "KEYS user.5.*\n",
    "GET user.5.session"
   ]
  },
  {
   "cell_type": "markdown",
   "metadata": {},
   "source": [
    "# Outros tipos de dados em Redis\n",
    "O Redis suporta outros tipos de dados além de strings simples, como conjuntos (SET) e hashes."
   ]
  },
  {
   "cell_type": "markdown",
   "metadata": {},
   "source": [
    "## Conjunto (SET)\n",
    "Um conjunto em Redis é uma coleção desordenada de strings únicas. O comando SADD adiciona elementos a um conjunto, e SMEMBERS recupera todos os elementos."
   ]
  },
  {
   "cell_type": "code",
   "execution_count": null,
   "metadata": {},
   "outputs": [],
   "source": [
    "%redis\n",
    "# SET\n",
    "SADD myset \"Hello\"\n",
    "SADD myset \"World\"\n",
    "SADD myset \"World\"\n",
    "SMEMBERS myset"
   ]
  },
  {
   "cell_type": "markdown",
   "metadata": {},
   "source": [
    "## Hashes\n",
    "Um hash em Redis é uma coleção de pares campo-valor, semelhante a uma tabela de hash em outras linguagens de programação."
   ]
  },
  {
   "cell_type": "code",
   "execution_count": null,
   "metadata": {},
   "outputs": [],
   "source": [
    "%redis\n",
    "# HASH\n",
    "HSET myhash field1 \"Valor 1\"\n",
    "HSET myhash campo2 \"Value 2\"\n",
    "HGETALL myhash\n",
    "HGET myhash field1\n",
    "\n",
    "HSET user.3.movies movieId 3 title \"Lion Redemption\" genres \"Comedy|Adventure\" year 1998\n",
    "HGETALL user.3.movies\n",
    "HGET user.3.movies title"
   ]
  },
  {
   "cell_type": "markdown",
   "metadata": {},
   "source": [
    "# Verificar o tipo de valor armazenado por uma chave\n",
    "Você pode usar o comando TYPE para verificar o tipo de dado armazenado em uma chave específica."
   ]
  },
  {
   "cell_type": "code",
   "execution_count": null,
   "metadata": {},
   "outputs": [],
   "source": [
    "%redis\n",
    "# check the type of the value held by a key\n",
    "TYPE user.6.session\n",
    "TYPE myhash\n",
    "TYPE user.3.movies"
   ]
  },
  {
   "cell_type": "markdown",
   "metadata": {},
   "source": [
    "# Referência Oficial dos Comandos\n",
    "Para mais detalhes sobre comandos Redis, visite a [referência oficial](https://redis.io/commands#generic)."
   ]
  }
 ],
 "metadata": {
  "kernelspec": {
   "display_name": "Python 3 (ipykernel)",
   "language": "python",
   "name": "python3"
  },
  "language_info": {
   "codemirror_mode": {
    "name": "ipython",
    "version": 3
   },
   "file_extension": ".py",
   "mimetype": "text/x-python",
   "name": "python",
   "nbconvert_exporter": "python",
   "pygments_lexer": "ipython3",
   "version": "3.10.14"
  }
 },
 "nbformat": 4,
 "nbformat_minor": 4
}
